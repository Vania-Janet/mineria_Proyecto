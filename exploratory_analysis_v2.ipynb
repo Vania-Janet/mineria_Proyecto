{
 "cells": [
  {
   "cell_type": "markdown",
   "id": "72b5d4b9",
   "metadata": {},
   "source": [
    "# Exploratory Analysis of FDIC & FFIEC Data\n",
    "\n",
    "Este cuaderno guía el proceso para unir la lista de bancos quebrados de la FDIC con los reportes financieros del FFIEC. Cada sección agrega contexto en texto antes de ejecutar el código para dejar claro cuál es el objetivo de la celda siguiente.\n"
   ]
  },
  {
   "cell_type": "markdown",
   "id": "b59faac0",
   "metadata": {},
   "source": [
    "## 1. Configuración inicial\n",
    "\n",
    "Importamos las librerías que usaremos durante todo el análisis, configuramos estilos de visualización y ajustamos las opciones de pandas para inspeccionar tablas grandes sin perder columnas importantes.\n"
   ]
  },
  {
   "cell_type": "code",
   "execution_count": null,
   "id": "0e295c34",
   "metadata": {},
   "outputs": [],
   "source": [
    "# Configuración global de librerías y estilo\n",
    "import pandas as pd\n",
    "import numpy as np\n",
    "import matplotlib.pyplot as plt\n",
    "import seaborn as sns\n",
    "import warnings\n",
    "import os\n",
    "import csv\n",
    "import itertools\n",
    "from pathlib import Path\n",
    "\n",
    "# Ajustes de visualización y supresión de advertencias\n",
    "warnings.filterwarnings('ignore')\n",
    "plt.style.use('seaborn-v0_8-darkgrid')\n",
    "sns.set_palette('husl')\n",
    "pd.set_option('display.max_columns', None)\n",
    "pd.set_option('display.max_rows', 100)\n",
    "\n",
    "print(f\"Pandas version: {pd.__version__}\")\n",
    "print(f\"Numpy version: {np.__version__}\")\n"
   ]
  },
  {
   "cell_type": "markdown",
   "id": "f8b40a5c",
   "metadata": {},
   "source": [
    "## 2. Datos FDIC: lista de bancos quebrados\n",
    "\n",
    "Comenzamos leyendo `download-data.csv`, normalizando encabezados y tipos de datos (por ejemplo, fechas y el certificado `Cert`). También agregamos columnas derivadas como año y trimestre para facilitar el análisis temporal posterior.\n"
   ]
  },
  {
   "cell_type": "code",
   "execution_count": null,
   "id": "4db8d927",
   "metadata": {},
   "outputs": [],
   "source": [
    "# Cargar y preparar la lista de bancos quebrados de la FDIC\n",
    "fdic_path = Path('download-data.csv')\n",
    "if not fdic_path.exists():\n",
    "    raise FileNotFoundError('No se encontró download-data.csv. Descarga primero la lista de bancos quebrados de la FDIC.')\n",
    "\n",
    "# Lectura del CSV manejando caracteres especiales en encabezados\n",
    "fdic_failed = pd.read_csv(fdic_path, encoding='latin-1')\n",
    "fdic_failed.columns = fdic_failed.columns.str.strip().str.replace(' ', '').str.replace(' ', '_')\n",
    "\n",
    "# Normalizar identificadores y fechas clave\n",
    "fdic_failed['Cert'] = fdic_failed['Cert'].astype(str).str.strip()\n",
    "fdic_failed['Closing_Date'] = pd.to_datetime(fdic_failed['Closing_Date'], errors='coerce')\n",
    "fdic_failed['year'] = fdic_failed['Closing_Date'].dt.year\n",
    "fdic_failed['quarter'] = fdic_failed['Closing_Date'].dt.quarter\n",
    "\n",
    "print(f'Registros FDIC: {len(fdic_failed):,}')\n",
    "print(f'Rango temporal: {fdic_failed[\"Closing_Date\"].min()} -> {fdic_failed[\"Closing_Date\"].max()}')\n",
    "fdic_failed.head()\n"
   ]
  },
  {
   "cell_type": "code",
   "execution_count": null,
   "id": "8db1451f",
   "metadata": {},
   "outputs": [],
   "source": [
    "# Resumen estructural y estadístico del dataset FDIC\n",
    "print(fdic_failed.info())\n",
    "describe_fdic = fdic_failed.describe(include='all')\n",
    "describe_fdic\n"
   ]
  },
  {
   "cell_type": "code",
   "execution_count": null,
   "id": "8b52a312",
   "metadata": {},
   "outputs": [],
   "source": [
    "# Exploración de valores nulos en columnas FDIC\n",
    "nulls_fdic = fdic_failed.isnull().sum().reset_index(name='nulls')\n",
    "nulls_fdic.rename(columns={'index': 'column'}, inplace=True)\n",
    "nulls_fdic['pct'] = nulls_fdic['nulls'] / len(fdic_failed) * 100\n",
    "nulls_fdic\n"
   ]
  },
  {
   "cell_type": "code",
   "execution_count": null,
   "id": "4db8e088",
   "metadata": {},
   "outputs": [],
   "source": [
    "# Visualizar comportamiento temporal de las quiebras\n",
    "fig, axes = plt.subplots(2, 2, figsize=(18, 12))\n",
    "\n",
    "failures_year = fdic_failed.groupby('year').size()\n",
    "axes[0, 0].bar(failures_year.index, failures_year.values, color='crimson', alpha=0.8)\n",
    "axes[0, 0].set_title('Quiebras por Año')\n",
    "axes[0, 0].set_xlabel('Año')\n",
    "axes[0, 0].set_ylabel('Conteo')\n",
    "axes[0, 0].grid(True, alpha=0.3)\n",
    "\n",
    "# Evolución acumulada para dimensionar periodos críticos\n",
    "cumulative = failures_year.cumsum()\n",
    "axes[0, 1].plot(cumulative.index, cumulative.values, marker='o', color='darkred')\n",
    "axes[0, 1].fill_between(cumulative.index, cumulative.values, alpha=0.3, color='lightcoral')\n",
    "axes[0, 1].set_title('Quiebras acumuladas')\n",
    "axes[0, 1].set_xlabel('Año')\n",
    "axes[0, 1].set_ylabel('Acumulado')\n",
    "axes[0, 1].grid(True, alpha=0.3)\n",
    "\n",
    "# Distribución intra-anual por trimestre\n",
    "if 'quarter' in fdic_failed:\n",
    "    failures_quarter = fdic_failed['quarter'].value_counts().sort_index()\n",
    "    axes[1, 0].bar(failures_quarter.index, failures_quarter.values, color='tomato', alpha=0.8)\n",
    "    axes[1, 0].set_title('Quiebras por Trimestre')\n",
    "    axes[1, 0].set_xlabel('Trimestre')\n",
    "    axes[1, 0].set_ylabel('Conteo')\n",
    "    axes[1, 0].grid(True, alpha=0.3)\n",
    "\n",
    "# Ranking de los diez años con más cierres bancarios\n",
    "failures_top_years = failures_year.nlargest(10)\n",
    "axes[1, 1].barh(failures_top_years.index.astype(str), failures_top_years.values, color='firebrick', alpha=0.8)\n",
    "axes[1, 1].invert_yaxis()\n",
    "axes[1, 1].set_title('Top 10 Años con Más Quiebras')\n",
    "axes[1, 1].set_xlabel('Conteo')\n",
    "axes[1, 1].grid(True, axis='x', alpha=0.3)\n",
    "\n",
    "plt.tight_layout()\n",
    "plt.show()\n"
   ]
  },
  {
   "cell_type": "code",
   "execution_count": null,
   "id": "3c4b174f",
   "metadata": {},
   "outputs": [],
   "source": [
    "# Analizar concentración geográfica de quiebras\n",
    "state_map = {\n",
    "    'AL': 'Alabama', 'AK': 'Alaska', 'AZ': 'Arizona', 'AR': 'Arkansas', 'CA': 'California',\n",
    "    'CO': 'Colorado', 'CT': 'Connecticut', 'DE': 'Delaware', 'FL': 'Florida', 'GA': 'Georgia',\n",
    "    'HI': 'Hawaii', 'ID': 'Idaho', 'IL': 'Illinois', 'IN': 'Indiana', 'IA': 'Iowa',\n",
    "    'KS': 'Kansas', 'KY': 'Kentucky', 'LA': 'Louisiana', 'ME': 'Maine', 'MD': 'Maryland',\n",
    "    'MA': 'Massachusetts', 'MI': 'Michigan', 'MN': 'Minnesota', 'MS': 'Mississippi', 'MO': 'Missouri',\n",
    "    'MT': 'Montana', 'NE': 'Nebraska', 'NV': 'Nevada', 'NH': 'New Hampshire', 'NJ': 'New Jersey',\n",
    "    'NM': 'New Mexico', 'NY': 'New York', 'NC': 'North Carolina', 'ND': 'North Dakota', 'OH': 'Ohio',\n",
    "    'OK': 'Oklahoma', 'OR': 'Oregon', 'PA': 'Pennsylvania', 'RI': 'Rhode Island', 'SC': 'South Carolina',\n",
    "    'SD': 'South Dakota', 'TN': 'Tennessee', 'TX': 'Texas', 'UT': 'Utah', 'VT': 'Vermont',\n",
    "    'VA': 'Virginia', 'WA': 'Washington', 'WV': 'West Virginia', 'WI': 'Wisconsin', 'WY': 'Wyoming',\n",
    "    'DC': 'District of Columbia', 'PR': 'Puerto Rico'\n",
    "}\n",
    "\n",
    "fdic_failed['State_Name'] = fdic_failed['State'].map(state_map).fillna(fdic_failed['State'])\n",
    "state_counts = fdic_failed['State_Name'].value_counts()\n",
    "\n",
    "plt.figure(figsize=(14, 8))\n",
    "state_counts.head(20).iloc[::-1].plot(kind='barh', color='teal', alpha=0.8)\n",
    "plt.title('Top 20 Estados con Mayor Número de Quiebras')\n",
    "plt.xlabel('Número de quiebras')\n",
    "plt.ylabel('Estado')\n",
    "plt.grid(True, axis='x', alpha=0.3)\n",
    "plt.show()\n",
    "\n",
    "state_counts.head(20)\n"
   ]
  },
  {
   "cell_type": "markdown",
   "id": "a59d49ba",
   "metadata": {},
   "source": [
    "## 3. Datos FFIEC: carga y limpieza\n",
    "\n",
    "Verificamos la carpeta de schedules FFIEC, implementamos una utilidad para leer archivos delimitados por tabuladores y cargamos los schedules principales:\n",
    "- **RC** para obtener el balance general.\n",
    "- **ENT** con información institucional.\n",
    "- **POR** que incluye el `Certificate Number` necesario para enlazar con FDIC.\n"
   ]
  },
  {
   "cell_type": "code",
   "execution_count": null,
   "id": "c979fc27",
   "metadata": {},
   "outputs": [],
   "source": [
    "# Revisar disponibilidad de archivos FFIEC en el directorio esperado\n",
    "ffiec_dir = Path('FFIEC CDR Call Bulk All Schedules 03312001')\n",
    "if not ffiec_dir.exists():\n",
    "    raise FileNotFoundError('No se encontró la carpeta con los schedules FFIEC.')\n",
    "\n",
    "print(f'Se detectaron {len(list(ffiec_dir.glob(\"*.txt\")))} archivos FFIEC en {ffiec_dir}.')\n"
   ]
  },
  {
   "cell_type": "code",
   "execution_count": null,
   "id": "4c8ab31b",
   "metadata": {},
   "outputs": [],
   "source": [
    "# Utilidad para cargar schedules FFIEC tomando en cuenta encabezados y filas descriptivas\n",
    "def load_ffiec_schedule(filename, columns=None, drop_description=True):\n",
    "    filepath = ffiec_dir / filename\n",
    "    with filepath.open(encoding='utf-8', newline='') as f:\n",
    "        reader = csv.reader(f, delimiter='\t')\n",
    "        header = [h.strip('\"').strip() for h in next(reader)]\n",
    "        first_row = next(reader, [])\n",
    "        if drop_description and (not first_row or not first_row[0].strip()):\n",
    "            iterator = reader\n",
    "        else:\n",
    "            iterator = itertools.chain([first_row], reader)\n",
    "\n",
    "        if columns:\n",
    "            cols = []\n",
    "            for col in columns:\n",
    "                name = col.strip('\"').strip()\n",
    "                if name in header and name not in cols:\n",
    "                    cols.append(name)\n",
    "            if 'IDRSSD' not in cols and 'IDRSSD' in header:\n",
    "                cols.insert(0, 'IDRSSD')\n",
    "            indices = {col: header.index(col) for col in cols}\n",
    "            data = {col: [] for col in cols}\n",
    "            for row in iterator:\n",
    "                if not any(row):\n",
    "                    continue\n",
    "                for col, idx in indices.items():\n",
    "                    value = row[idx] if idx < len(row) else ''\n",
    "                    data[col].append(value.strip())\n",
    "            df = pd.DataFrame(data)\n",
    "        else:\n",
    "            records = [row for row in iterator if any(row)]\n",
    "            df = pd.DataFrame(records, columns=header)\n",
    "\n",
    "    df = df.loc[:, [c for c in df.columns if c]]\n",
    "    if 'IDRSSD' in df.columns:\n",
    "        df['IDRSSD'] = df['IDRSSD'].astype(str).str.strip()\n",
    "    return df\n"
   ]
  },
  {
   "cell_type": "code",
   "execution_count": null,
   "id": "04166076",
   "metadata": {},
   "outputs": [],
   "source": [
    "# Identificar archivos específicos a utilizar en el análisis\n",
    "rc_file = next((f.name for f in ffiec_dir.glob('*Schedule RC*03312001.txt')), None)\n",
    "ent_file = next((f.name for f in ffiec_dir.glob('*Schedule ENT*.txt')), None)\n",
    "por_file = next((f.name for f in ffiec_dir.glob('FFIEC CDR Call Bulk POR*.txt')), None)\n",
    "\n",
    "print('Schedule RC:', rc_file)\n",
    "print('Schedule ENT:', ent_file)\n",
    "print('Schedule POR:', por_file)\n"
   ]
  },
  {
   "cell_type": "code",
   "execution_count": null,
   "id": "f0a44d8f",
   "metadata": {},
   "outputs": [],
   "source": [
    "# Cargar columnas clave del balance general con respaldo RCFD/RCON\n",
    "balance_columns = [\n",
    "    'IDRSSD',\n",
    "    'RCFD2170', 'RCON2170',\n",
    "    'RCFD2200', 'RCON2200',\n",
    "    'RCFD3210', 'RCON3210',\n",
    "    'RCFD2948', 'RCON2948',\n",
    "    'RCFD3123', 'RCON3123',\n",
    "    'RCFD3190', 'RCON3190'\n",
    "]\n",
    "\n",
    "df_rc = load_ffiec_schedule(rc_file, columns=balance_columns) if rc_file else None\n",
    "print(df_rc.head())\n",
    "print(df_rc.shape if df_rc is not None else None)\n"
   ]
  },
  {
   "cell_type": "code",
   "execution_count": null,
   "id": "c2f3a431",
   "metadata": {},
   "outputs": [],
   "source": [
    "# Cargar metadatos de entidad (ENT) y certificados (POR)\n",
    "df_ent = load_ffiec_schedule(ent_file, drop_description=False) if ent_file else None\n",
    "if df_ent is not None:\n",
    "    df_ent = df_ent.loc[:, ~df_ent.columns.str.fullmatch('')]\n",
    "print(df_ent.head() if df_ent is not None else None)\n",
    "print(df_ent.shape if df_ent is not None else None)\n",
    "\n",
    "df_por = load_ffiec_schedule(por_file, drop_description=False) if por_file else None\n",
    "if df_por is not None:\n",
    "    df_por = df_por.rename(columns={'FDIC Certificate Number': 'Cert'})\n",
    "    df_por['IDRSSD'] = df_por['IDRSSD'].astype(str).str.strip()\n",
    "    df_por['Cert'] = df_por['Cert'].astype(str).str.strip()\n",
    "print(df_por.head() if df_por is not None else None)\n",
    "print(df_por.shape if df_por is not None else None)\n"
   ]
  },
  {
   "cell_type": "markdown",
   "id": "23bdf0cf",
   "metadata": {},
   "source": [
    "## 4. Variables clave y ratios financieros\n",
    "\n",
    "Mapeamos los códigos de columnas relevantes (activos, depósitos, capital, etc.) buscando tanto la versión RCFD como RCON. A partir de esos totales calculamos ratios de solvencia, liquidez y calidad de cartera, además de revisar la cobertura de cada métrica.\n"
   ]
  },
  {
   "cell_type": "code",
   "execution_count": null,
   "id": "a6dff202",
   "metadata": {},
   "outputs": [],
   "source": [
    "# Inventario de variables financieras disponibles en el Schedule RC\n",
    "balance_map = {\n",
    "    'total_assets': {'label': 'Total Assets', 'codes': ['RCFD2170', 'RCON2170']},\n",
    "    'total_deposits': {'label': 'Total Deposits', 'codes': ['RCFD2200', 'RCON2200']},\n",
    "    'total_equity': {'label': 'Total Equity Capital', 'codes': ['RCFD3210', 'RCON3210']},\n",
    "    'loans_net': {'label': 'Loans & Leases Net', 'codes': ['RCFD2948', 'RCON2948']},\n",
    "    'allowance': {'label': 'Allowance for Loan & Lease Losses', 'codes': ['RCFD3123', 'RCON3123']},\n",
    "    'total_liabilities': {'label': 'Total Liabilities', 'codes': ['RCFD3190', 'RCON3190']},\n",
    "}\n",
    "\n",
    "if df_rc is not None:\n",
    "    for alias, meta in balance_map.items():\n",
    "        codes_available = [code for code in meta['codes'] if code in df_rc.columns]\n",
    "        if codes_available:\n",
    "            print(f\"{meta['label']}: {codes_available}\")\n",
    "        else:\n",
    "            print(f\"{meta['label']}: no disponible en este corte\")\n"
   ]
  },
  {
   "cell_type": "code",
   "execution_count": null,
   "id": "52785068",
   "metadata": {},
   "outputs": [],
   "source": [
    "# Funciones de apoyo para seleccionar columnas numéricas y calcular ratios\n",
    "def select_numeric(df, codes):\n",
    "    for code in codes:\n",
    "        if code in df.columns:\n",
    "            series = pd.to_numeric(df[code], errors='coerce')\n",
    "            if series.notna().any():\n",
    "                return series\n",
    "    return pd.Series(np.nan, index=df.index)\n",
    "\n",
    "def safe_ratio(num, den):\n",
    "    ratio = num / den\n",
    "    return ratio.where(den.notna() & (den != 0))\n",
    "\n",
    "if df_rc is not None:\n",
    "    df_rc_ratios = pd.DataFrame({'IDRSSD': df_rc['IDRSSD']})\n",
    "    for alias, meta in balance_map.items():\n",
    "        df_rc_ratios[alias] = select_numeric(df_rc, meta['codes'])\n",
    "\n",
    "    # Ratios de solvencia, liquidez y calidad de cartera\n",
    "    df_rc_ratios['equity_to_assets'] = safe_ratio(df_rc_ratios['total_equity'], df_rc_ratios['total_assets'])\n",
    "    df_rc_ratios['loan_to_deposit'] = safe_ratio(df_rc_ratios['loans_net'], df_rc_ratios['total_deposits'])\n",
    "    df_rc_ratios['allowance_to_loans'] = safe_ratio(df_rc_ratios['allowance'], df_rc_ratios['loans_net'])\n",
    "    df_rc_ratios['deposits_to_assets'] = safe_ratio(df_rc_ratios['total_deposits'], df_rc_ratios['total_assets'])\n",
    "    df_rc_ratios['debt_to_equity'] = safe_ratio(df_rc_ratios['total_liabilities'], df_rc_ratios['total_equity'])\n",
    "\n",
    "    ratio_cols = ['equity_to_assets', 'loan_to_deposit', 'allowance_to_loans', 'deposits_to_assets', 'debt_to_equity']\n",
    "    coverage = (df_rc_ratios[ratio_cols].notna().sum() / len(df_rc_ratios) * 100).round(1)\n",
    "    print('Cobertura de ratios (% instituciones con valor):')\n",
    "    print(coverage)\n",
    "\n",
    "    df_rc_ratios[ratio_cols].describe()\n"
   ]
  },
  {
   "cell_type": "markdown",
   "id": "7b202bda",
   "metadata": {},
   "source": [
    "Se escogieron ratios básicos de solvencia y liquidez (equity_to_assets, loan_to_deposit, allowance_to_loans, deposits_to_assets, debt_to_equity)"
   ]
  },
  {
   "cell_type": "code",
   "execution_count": null,
   "id": "c85810f3",
   "metadata": {},
   "outputs": [],
   "source": [
    "# Distribución de ratios para detectar sesgos y valores extremos\n",
    "if df_rc is not None:\n",
    "    ratio_cols = ['equity_to_assets', 'loan_to_deposit', 'allowance_to_loans', 'deposits_to_assets', 'debt_to_equity']\n",
    "    fig, axes = plt.subplots(2, 3, figsize=(20, 12))\n",
    "    axes = axes.flatten()\n",
    "    for idx, col in enumerate(ratio_cols):\n",
    "        data = df_rc_ratios[col].dropna()\n",
    "        if data.empty:\n",
    "            axes[idx].set_visible(False)\n",
    "            continue\n",
    "        q1, q99 = data.quantile([0.01, 0.99])\n",
    "        data = data[(data >= q1) & (data <= q99)]\n",
    "        axes[idx].hist(data, bins=40, color='steelblue', alpha=0.8, edgecolor='black')\n",
    "        axes[idx].axvline(data.mean(), color='orange', linestyle='--', lw=2, label=f'Media: {data.mean():.3f}')\n",
    "        axes[idx].axvline(data.median(), color='red', linestyle='--', lw=2, label=f'Mediana: {data.median():.3f}')\n",
    "        axes[idx].set_title(col.replace('_', ' ').title())\n",
    "        axes[idx].grid(True, alpha=0.3)\n",
    "        axes[idx].legend()\n",
    "    for idx in range(len(ratio_cols), len(axes)):\n",
    "        axes[idx].set_visible(False)\n",
    "    plt.tight_layout()\n",
    "    plt.show()\n"
   ]
  },
  {
   "cell_type": "markdown",
   "id": "ede885e1",
   "metadata": {},
   "source": [
    "## 5. Integración FDIC + FFIEC\n",
    "\n",
    "Unimos los datasets del FFIEC (ENT + ratios) utilizando `IDRSSD` y anexamos el certificado desde POR. Con el `Cert` homogenizado cruzamos contra la lista de la FDIC para generar la etiqueta binaria `FAILED` que indica si la institución quebró.\n"
   ]
  },
  {
   "cell_type": "code",
   "execution_count": null,
   "id": "c24ece23",
   "metadata": {},
   "outputs": [],
   "source": [
    "# Construir marco con certificados para enlazar FDIC-FFIEC\n",
    "if df_por is not None:\n",
    "    cert_map = df_por[['IDRSSD', 'Cert']].copy()\n",
    "else:\n",
    "    cert_map = pd.DataFrame(columns=['IDRSSD', 'Cert'])\n",
    "print(f'Certificados disponibles: {cert_map[\"Cert\"].notna().sum():,} / {len(cert_map):,}')\n"
   ]
  },
  {
   "cell_type": "code",
   "execution_count": null,
   "id": "27ea30cd",
   "metadata": {},
   "outputs": [],
   "source": [
    "# Unificar ENT + ratios y anexar certificados\n",
    "ffiec = df_ent.copy()\n",
    "ffiec['IDRSSD'] = ffiec['IDRSSD'].astype(str).str.strip()\n",
    "ffiec = ffiec.merge(df_rc_ratios, on='IDRSSD', how='inner')\n",
    "ffiec = ffiec.merge(cert_map, on='IDRSSD', how='left')\n",
    "ffiec['Cert'] = ffiec['Cert'].astype(str).str.strip()\n",
    "print(f'Dataset FFIEC unificado: {ffiec.shape}')\n",
    "ffiec.head()\n"
   ]
  },
  {
   "cell_type": "code",
   "execution_count": null,
   "id": "c22bde05",
   "metadata": {},
   "outputs": [],
   "source": [
    "# Etiquetar quiebra (FAILED) usando el certificado cruzado\n",
    "ffiec['FAILED'] = ffiec['Cert'].isin(fdic_failed['Cert']).astype(int)\n",
    "failed_counts = ffiec['FAILED'].value_counts()\n",
    "print(failed_counts)\n",
    "print(f\"Proporción de quiebras: {ffiec['FAILED'].mean()*100:.2f}%\")\n"
   ]
  },
  {
   "cell_type": "markdown",
   "id": "25224cef",
   "metadata": {},
   "source": [
    "## 6. Comparativa de indicadores\n",
    "\n",
    "Analizamos cómo se comportan los ratios entre bancos quebrados y solventes. Primero calculamos estadísticas comparativas y luego trazamos histogramas y boxplots filtrando valores extremos para destacar diferencias reales entre grupos.\n"
   ]
  },
  {
   "cell_type": "code",
   "execution_count": null,
   "id": "fa7d5836",
   "metadata": {},
   "outputs": [],
   "source": [
    "# Estadísticas comparativas entre bancos quebrados y solventes\n",
    "ratios = ['equity_to_assets', 'loan_to_deposit', 'allowance_to_loans', 'deposits_to_assets', 'debt_to_equity']\n",
    "comparison_stats = []\n",
    "for col in ratios:\n",
    "    failed = ffiec.loc[ffiec['FAILED'] == 1, col].dropna()\n",
    "    solvent = ffiec.loc[ffiec['FAILED'] == 0, col].dropna()\n",
    "    if failed.empty or solvent.empty:\n",
    "        continue\n",
    "    comparison_stats.append({\n",
    "        'ratio': col,\n",
    "        'failed_mean': failed.mean(),\n",
    "        'solvent_mean': solvent.mean(),\n",
    "        'failed_median': failed.median(),\n",
    "        'solvent_median': solvent.median(),\n",
    "        'pct_diff_mean': (failed.mean() - solvent.mean()) / solvent.mean() * 100,\n",
    "        'failed_n': len(failed),\n",
    "        'solvent_n': len(solvent)\n",
    "    })\n",
    "\n",
    "pd.DataFrame(comparison_stats)\n"
   ]
  },
  {
   "cell_type": "code",
   "execution_count": null,
   "id": "7aa70375",
   "metadata": {},
   "outputs": [],
   "source": [
    "# Gráficas comparativas para visualizar diferencias de distribución\n",
    "fig, axes = plt.subplots(len(ratios), 2, figsize=(18, 6 * len(ratios)))\n",
    "for idx, col in enumerate(ratios):\n",
    "    failed = ffiec.loc[ffiec['FAILED'] == 1, col].dropna()\n",
    "    solvent = ffiec.loc[ffiec['FAILED'] == 0, col].dropna()\n",
    "    if failed.empty or solvent.empty:\n",
    "        axes[idx, 0].set_visible(False)\n",
    "        axes[idx, 1].set_visible(False)\n",
    "        continue\n",
    "    q_low_f, q_high_f = failed.quantile([0.01, 0.99])\n",
    "    q_low_s, q_high_s = solvent.quantile([0.01, 0.99])\n",
    "    failed_f = failed[(failed >= q_low_f) & (failed <= q_high_f)]\n",
    "    solvent_f = solvent[(solvent >= q_low_s) & (solvent <= q_high_s)]\n",
    "\n",
    "    axes[idx, 0].hist(solvent_f, bins=40, alpha=0.6, label=f'Solventes (n={len(solvent_f)})', color='green', edgecolor='black')\n",
    "    axes[idx, 0].hist(failed_f, bins=40, alpha=0.6, label=f'Quebrados (n={len(failed_f)})', color='red', edgecolor='black')\n",
    "    axes[idx, 0].set_title(f'Distribución de {col}')\n",
    "    axes[idx, 0].legend()\n",
    "    axes[idx, 0].grid(True, alpha=0.3)\n",
    "\n",
    "    axes[idx, 1].boxplot([solvent_f, failed_f], labels=['Solventes', 'Quebrados'], widths=0.6, patch_artist=True)\n",
    "    axes[idx, 1].set_title(f'Comparación de {col}')\n",
    "    axes[idx, 1].grid(True, axis='y', alpha=0.3)\n",
    "\n",
    "plt.tight_layout()\n",
    "plt.show()\n"
   ]
  },
  {
   "cell_type": "markdown",
   "id": "658a3506",
   "metadata": {},
   "source": [
    "## 7. Correlaciones y matriz de calor\n",
    "\n",
    "Calculamos la correlación de cada ratio con la variable objetivo `FAILED` y visualizamos la matriz completa. Esto ayuda a identificar qué indicadores están más asociados con la quiebra y posibles redundancias entre variables.\n"
   ]
  },
  {
   "cell_type": "code",
   "execution_count": null,
   "id": "bee5d2ad",
   "metadata": {},
   "outputs": [],
   "source": [
    "# Calcular correlaciones de los ratios con la etiqueta de quiebra\n",
    "subset = ffiec[ratios + ['FAILED']].dropna()\n",
    "corr_matrix = subset.corr()\n",
    "print('Correlaciones con FAILED:')\n",
    "print(corr_matrix['FAILED'].sort_values(ascending=False))\n"
   ]
  },
  {
   "cell_type": "code",
   "execution_count": null,
   "id": "af29f0c5",
   "metadata": {},
   "outputs": [],
   "source": [
    "# Visualizar correlaciones completas en una matriz de calor\n",
    "plt.figure(figsize=(12, 8))\n",
    "sns.heatmap(corr_matrix, annot=True, cmap='coolwarm', center=0, fmt='.2f')\n",
    "plt.title('Matriz de Correlación (Ratios + FAILED)')\n",
    "plt.show()\n"
   ]
  },
  {
   "cell_type": "markdown",
   "id": "8383d846",
   "metadata": {},
   "source": [
    "## 8. Valores faltantes y calidad de datos\n",
    "\n",
    "Evaluamos cuántos valores faltantes quedan en el dataset integrado. El resumen numérico y la gráfica permiten priorizar columnas para imputación o descarte antes de entrenar modelos predictivos.\n"
   ]
  },
  {
   "cell_type": "code",
   "execution_count": null,
   "id": "e1d27915",
   "metadata": {},
   "outputs": [],
   "source": [
    "# Inventario de valores faltantes tras la integración FFIEC\n",
    "missing_summary = ffiec.isnull().sum().reset_index(name='nulls')\n",
    "missing_summary.rename(columns={'index': 'column'}, inplace=True)\n",
    "missing_summary['pct'] = missing_summary['nulls'] / len(ffiec) * 100\n",
    "missing_summary.sort_values('pct', ascending=False).head(20)\n"
   ]
  },
  {
   "cell_type": "code",
   "execution_count": null,
   "id": "fbe854e1",
   "metadata": {},
   "outputs": [],
   "source": [
    "# Visualizar columnas con mayor porcentaje de valores nulos\n",
    "plt.figure(figsize=(14, 8))\n",
    "top_missing = missing_summary.sort_values('pct', ascending=False).head(15)\n",
    "plt.barh(top_missing['column'], top_missing['pct'], color='coral', alpha=0.8)\n",
    "plt.gca().invert_yaxis()\n",
    "plt.title('Top 15 Columnas con Mayor Porcentaje de Valores Faltantes')\n",
    "plt.xlabel('% de valores faltantes')\n",
    "plt.grid(True, axis='x', alpha=0.3)\n",
    "plt.show()\n"
   ]
  },
  {
   "cell_type": "markdown",
   "id": "42aa89cd",
   "metadata": {},
   "source": [
    "## 9. Dataset final preparado\n",
    "\n",
    "Seleccionamos las columnas relevantes para modelado, eliminamos registros sin ratios calculados y guardamos un archivo limpio (`banking_dataset_processed_v2.csv`) listo para usarse en clasificación o análisis de supervivencia.\n"
   ]
  },
  {
   "cell_type": "code",
   "execution_count": null,
   "id": "ff892b2d",
   "metadata": {},
   "outputs": [],
   "source": [
    "# Armar dataset depurado con variables relevantes para modelado\n",
    "feature_cols = ratios + ['total_assets', 'total_deposits', 'total_equity', 'loans_net', 'allowance', 'total_liabilities', 'Cert']\n",
    "feature_cols = [col for col in feature_cols if col in ffiec.columns]\n",
    "\n",
    "model_df = ffiec[feature_cols + ['FAILED']].copy()\n",
    "model_df_clean = model_df.dropna(subset=ratios)\n",
    "print(f'Dataset para modelado: {model_df_clean.shape}')\n",
    "model_df_clean.head()\n"
   ]
  },
  {
   "cell_type": "code",
   "execution_count": null,
   "id": "3b4dfafe",
   "metadata": {},
   "outputs": [],
   "source": [
    "# Guardar dataset listo para experimentos de modelado\n",
    "output_path = Path('banking_dataset_processed_v2.csv')\n",
    "model_df_clean.to_csv(output_path, index=False)\n",
    "print(f'Dataset guardado en {output_path.resolve()}')\n"
   ]
  },
  {
   "cell_type": "markdown",
   "id": "de0058da",
   "metadata": {},
   "source": [
    "## 10. Conclusiones y siguientes pasos\n",
    "\n",
    "Cerramos con un resumen de hallazgos y un checklist de tareas futuras: ampliar variables (features temporales), atender el desbalance de clases y preparar un esquema de validación temporal antes de probar modelos.\n"
   ]
  }
 ],
 "metadata": {
  "kernelspec": {
   "display_name": ".venv",
   "language": "python",
   "name": "python3"
  },
  "language_info": {
   "name": "python",
   "version": "3.13.3"
  }
 },
 "nbformat": 4,
 "nbformat_minor": 5
}
